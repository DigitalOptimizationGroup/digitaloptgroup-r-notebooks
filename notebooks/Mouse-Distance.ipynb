{
 "cells": [
  {
   "cell_type": "code",
   "execution_count": 40,
   "metadata": {},
   "outputs": [
    {
     "name": "stderr",
     "output_type": "stream",
     "text": [
      "Updating HTML index of packages in '.Library'\n",
      "Making 'packages.html' ... done\n"
     ]
    }
   ],
   "source": [
    "library(\"bigrquery\")\n",
    "install.packages(\"stringr\")\n",
    "library(stringr)"
   ]
  },
  {
   "cell_type": "code",
   "execution_count": 52,
   "metadata": {},
   "outputs": [],
   "source": [
    "# source the config\n",
    "source(\"/home/jupyter/digitaloptgroup-r-notebooks/config.R\")\n",
    "\n",
    "# Provide authentication through the JSON service account key\n",
    "set_service_token(pathToServiceAccount)\n",
    "\n",
    "sql <- str_interp(\n",
    "'SELECT vid, SUM(ts.distance) as mouseDistanceAfterExposure, variationId, featureId\n",
    "    FROM `${digitalOptGroupBQid}.${dataset}.mouseDistance` as ts \n",
    "    JOIN `${digitalOptGroupBQid}.${dataset}.variationInViewport` as v \n",
    "    USING(vid) \n",
    "    WHERE ts.timelineMark > v.timelineMark\n",
    "    GROUP BY variationId, vid, featureId'\n",
    ")\n",
    "\n",
    "# Run the query and store the data in a dataframe\n",
    "tb <- bq_project_query(query=sql,x=googleCloudProjectId)\n",
    "df <- bq_table_download(tb)"
   ]
  },
  {
   "cell_type": "code",
   "execution_count": 53,
   "metadata": {},
   "outputs": [
    {
     "data": {
      "text/html": [
       "<table>\n",
       "<thead><tr><th scope=col>vid</th><th scope=col>mouseDistanceAfterExposure</th><th scope=col>variationId</th><th scope=col>featureId</th></tr></thead>\n",
       "<tbody>\n",
       "\t<tr><td>bd2b7e80-4edb-4233-89c6-dd534e99861b    </td><td>10223                                   </td><td>a6e64c2b38d826a88ffcdf4f5625f663b038496c</td><td>db30fd494bc65dc42547e965bd05fc7e120b47b9</td></tr>\n",
       "\t<tr><td>f65440d9-569e-4271-9cca-d98bb6532ea8    </td><td> 8321                                   </td><td>23c01c2e082caee8a781fb5d5118154c2777ad73</td><td>f8bcc27fa8256db9e317bc6ce436390059daa99f</td></tr>\n",
       "\t<tr><td>c0847204-5d2e-4c09-a85b-6050c96975ab    </td><td> 5940                                   </td><td>360acdd4eb2acd221b9198de9352e6dbfe10f542</td><td>864cb97ed0367a49419e87df750fd211c9b24f5a</td></tr>\n",
       "\t<tr><td>876e23c2-25a9-4900-9238-12b5eead1845    </td><td>14432                                   </td><td>29f58bf3d56a2928d43bc32930aa77bc46f81c17</td><td>b625881ad3dbde1a2ebb33a095e278fe530663d5</td></tr>\n",
       "\t<tr><td>cf633e92-0f9a-44da-adce-ac3fe5001605    </td><td> 1447                                   </td><td>7b21b886970385ad67873b59cc857e39385a29ad</td><td>76e318754a6a9051f0c8b174e10c711987d0eb50</td></tr>\n",
       "\t<tr><td>1-5a65e8ae-5b91fe6f18749ccc0e7b4dae     </td><td>55060                                   </td><td>bfe48f446b4584f308831eebb39eebb9d2f445d8</td><td>c21f4a9edc6df855cde3dfb94917dccc6716b0ad</td></tr>\n",
       "</tbody>\n",
       "</table>\n"
      ],
      "text/latex": [
       "\\begin{tabular}{r|llll}\n",
       " vid & mouseDistanceAfterExposure & variationId & featureId\\\\\n",
       "\\hline\n",
       "\t bd2b7e80-4edb-4233-89c6-dd534e99861b     & 10223                                    & a6e64c2b38d826a88ffcdf4f5625f663b038496c & db30fd494bc65dc42547e965bd05fc7e120b47b9\\\\\n",
       "\t f65440d9-569e-4271-9cca-d98bb6532ea8     &  8321                                    & 23c01c2e082caee8a781fb5d5118154c2777ad73 & f8bcc27fa8256db9e317bc6ce436390059daa99f\\\\\n",
       "\t c0847204-5d2e-4c09-a85b-6050c96975ab     &  5940                                    & 360acdd4eb2acd221b9198de9352e6dbfe10f542 & 864cb97ed0367a49419e87df750fd211c9b24f5a\\\\\n",
       "\t 876e23c2-25a9-4900-9238-12b5eead1845     & 14432                                    & 29f58bf3d56a2928d43bc32930aa77bc46f81c17 & b625881ad3dbde1a2ebb33a095e278fe530663d5\\\\\n",
       "\t cf633e92-0f9a-44da-adce-ac3fe5001605     &  1447                                    & 7b21b886970385ad67873b59cc857e39385a29ad & 76e318754a6a9051f0c8b174e10c711987d0eb50\\\\\n",
       "\t 1-5a65e8ae-5b91fe6f18749ccc0e7b4dae      & 55060                                    & bfe48f446b4584f308831eebb39eebb9d2f445d8 & c21f4a9edc6df855cde3dfb94917dccc6716b0ad\\\\\n",
       "\\end{tabular}\n"
      ],
      "text/markdown": [
       "\n",
       "vid | mouseDistanceAfterExposure | variationId | featureId | \n",
       "|---|---|---|---|---|---|\n",
       "| bd2b7e80-4edb-4233-89c6-dd534e99861b     | 10223                                    | a6e64c2b38d826a88ffcdf4f5625f663b038496c | db30fd494bc65dc42547e965bd05fc7e120b47b9 | \n",
       "| f65440d9-569e-4271-9cca-d98bb6532ea8     |  8321                                    | 23c01c2e082caee8a781fb5d5118154c2777ad73 | f8bcc27fa8256db9e317bc6ce436390059daa99f | \n",
       "| c0847204-5d2e-4c09-a85b-6050c96975ab     |  5940                                    | 360acdd4eb2acd221b9198de9352e6dbfe10f542 | 864cb97ed0367a49419e87df750fd211c9b24f5a | \n",
       "| 876e23c2-25a9-4900-9238-12b5eead1845     | 14432                                    | 29f58bf3d56a2928d43bc32930aa77bc46f81c17 | b625881ad3dbde1a2ebb33a095e278fe530663d5 | \n",
       "| cf633e92-0f9a-44da-adce-ac3fe5001605     |  1447                                    | 7b21b886970385ad67873b59cc857e39385a29ad | 76e318754a6a9051f0c8b174e10c711987d0eb50 | \n",
       "| 1-5a65e8ae-5b91fe6f18749ccc0e7b4dae      | 55060                                    | bfe48f446b4584f308831eebb39eebb9d2f445d8 | c21f4a9edc6df855cde3dfb94917dccc6716b0ad | \n",
       "\n",
       "\n"
      ],
      "text/plain": [
       "  vid                                  mouseDistanceAfterExposure\n",
       "1 bd2b7e80-4edb-4233-89c6-dd534e99861b 10223                     \n",
       "2 f65440d9-569e-4271-9cca-d98bb6532ea8  8321                     \n",
       "3 c0847204-5d2e-4c09-a85b-6050c96975ab  5940                     \n",
       "4 876e23c2-25a9-4900-9238-12b5eead1845 14432                     \n",
       "5 cf633e92-0f9a-44da-adce-ac3fe5001605  1447                     \n",
       "6 1-5a65e8ae-5b91fe6f18749ccc0e7b4dae  55060                     \n",
       "  variationId                             \n",
       "1 a6e64c2b38d826a88ffcdf4f5625f663b038496c\n",
       "2 23c01c2e082caee8a781fb5d5118154c2777ad73\n",
       "3 360acdd4eb2acd221b9198de9352e6dbfe10f542\n",
       "4 29f58bf3d56a2928d43bc32930aa77bc46f81c17\n",
       "5 7b21b886970385ad67873b59cc857e39385a29ad\n",
       "6 bfe48f446b4584f308831eebb39eebb9d2f445d8\n",
       "  featureId                               \n",
       "1 db30fd494bc65dc42547e965bd05fc7e120b47b9\n",
       "2 f8bcc27fa8256db9e317bc6ce436390059daa99f\n",
       "3 864cb97ed0367a49419e87df750fd211c9b24f5a\n",
       "4 b625881ad3dbde1a2ebb33a095e278fe530663d5\n",
       "5 76e318754a6a9051f0c8b174e10c711987d0eb50\n",
       "6 c21f4a9edc6df855cde3dfb94917dccc6716b0ad"
      ]
     },
     "metadata": {},
     "output_type": "display_data"
    }
   ],
   "source": [
    "head(df)"
   ]
  },
  {
   "cell_type": "code",
   "execution_count": 9,
   "metadata": {},
   "outputs": [
    {
     "data": {
      "text/plain": [
       "    Min.  1st Qu.   Median     Mean  3rd Qu.     Max. \n",
       "      11     4084    31334   464222   194505 25111955 "
      ]
     },
     "metadata": {},
     "output_type": "display_data"
    }
   ],
   "source": [
    "mouseDist <- df$mouseDistanceAfterExposure\n",
    "summary(mouseDist)"
   ]
  },
  {
   "cell_type": "code",
   "execution_count": 23,
   "metadata": {},
   "outputs": [
    {
     "data": {
      "text/html": [
       "2734"
      ],
      "text/latex": [
       "2734"
      ],
      "text/markdown": [
       "2734"
      ],
      "text/plain": [
       "[1] 2734"
      ]
     },
     "metadata": {},
     "output_type": "display_data"
    },
    {
     "data": {
      "text/html": [
       "1598"
      ],
      "text/latex": [
       "1598"
      ],
      "text/markdown": [
       "1598"
      ],
      "text/plain": [
       "[1] 1598"
      ]
     },
     "metadata": {},
     "output_type": "display_data"
    }
   ],
   "source": [
    "length(mouseDist)\n",
    "sum(mouseDist < 50000) "
   ]
  },
  {
   "cell_type": "code",
   "execution_count": 26,
   "metadata": {},
   "outputs": [
    {
     "data": {
      "image/png": "[encoded data removed]",
      "text/plain": [
       "Plot with title “Histogram of mouseDist[mouseDist < 50000]”"
      ]
     },
     "metadata": {},
     "output_type": "display_data",
     "source": "R display func"
    }
   ],
   "source": [
    "hist(mouseDist[mouseDist < 50000])"
   ]
  },
  {
   "cell_type": "code",
   "execution_count": 37,
   "metadata": {},
   "outputs": [],
   "source": []
  },
  {
   "cell_type": "code",
   "execution_count": null,
   "metadata": {},
   "outputs": [],
   "source": []
  },
  {
   "cell_type": "code",
   "execution_count": null,
   "metadata": {},
   "outputs": [],
   "source": []
  }
 ],
 "metadata": {
  "kernelspec": {
   "display_name": "R",
   "language": "R",
   "name": "ir"
  },
  "language_info": {
   "codemirror_mode": "r",
   "file_extension": ".r",
   "mimetype": "text/x-r-source",
   "name": "R",
   "pygments_lexer": "r",
   "version": "3.5.1"
  }
 },
 "nbformat": 4,
 "nbformat_minor": 2
}
